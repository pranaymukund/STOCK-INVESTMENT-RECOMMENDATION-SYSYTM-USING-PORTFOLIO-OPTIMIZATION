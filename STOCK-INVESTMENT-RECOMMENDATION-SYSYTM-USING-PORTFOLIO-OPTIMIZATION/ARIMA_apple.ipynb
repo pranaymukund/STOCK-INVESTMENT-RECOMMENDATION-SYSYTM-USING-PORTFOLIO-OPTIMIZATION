{
  "nbformat": 4,
  "nbformat_minor": 0,
  "metadata": {
    "colab": {
      "private_outputs": true,
      "provenance": []
    },
    "kernelspec": {
      "name": "python3",
      "display_name": "Python 3"
    },
    "language_info": {
      "name": "python"
    }
  },
  "cells": [
    {
      "cell_type": "code",
      "execution_count": null,
      "metadata": {
        "id": "K3961uJk5b02"
      },
      "outputs": [],
      "source": [
        "import yfinance as yf\n",
        "import pandas as pd\n",
        "import matplotlib.pyplot as plt"
      ]
    },
    {
      "cell_type": "code",
      "source": [
        "symbol = [\"AAPL\"]\n",
        "start_date = \"2007-01-02\"\n",
        "features = yf.download(symbol, start=start_date)"
      ],
      "metadata": {
        "id": "huDMH38k5lZs"
      },
      "execution_count": null,
      "outputs": []
    },
    {
      "cell_type": "code",
      "source": [
        "# Drop multiple columns\n",
        "features = features.drop(['Open', 'High','Low', 'Adj Close','Volume'], axis=1)"
      ],
      "metadata": {
        "id": "yYy76CfS5lbz"
      },
      "execution_count": null,
      "outputs": []
    },
    {
      "cell_type": "code",
      "source": [
        "features = features.dropna(axis=0)\n",
        "features.isna().sum()"
      ],
      "metadata": {
        "id": "ZhcUdM925leH"
      },
      "execution_count": null,
      "outputs": []
    },
    {
      "cell_type": "code",
      "source": [
        "df_plot = pd.DataFrame(features, index=features.index)\n",
        "# Plot the DataFrame\n",
        "df_plot.plot(figsize=(18,9))\n",
        "plt.show()"
      ],
      "metadata": {
        "id": "ZIdDjyRHLxAu"
      },
      "execution_count": null,
      "outputs": []
    },
    {
      "cell_type": "code",
      "source": [
        "features.shape"
      ],
      "metadata": {
        "id": "kNbH3IcXMeS7"
      },
      "execution_count": null,
      "outputs": []
    },
    {
      "cell_type": "code",
      "source": [
        "pip install pmdarima"
      ],
      "metadata": {
        "id": "ripew3Cz5lga"
      },
      "execution_count": null,
      "outputs": []
    },
    {
      "cell_type": "code",
      "source": [
        "import pandas as pd\n",
        "import numpy as np\n",
        "df = features \n",
        "df.shape"
      ],
      "metadata": {
        "id": "32qmNAv65lie"
      },
      "execution_count": null,
      "outputs": []
    },
    {
      "cell_type": "code",
      "source": [
        "from statsmodels.tsa.stattools import adfuller\n",
        "\n",
        "def ad_test(dataset):\n",
        "  dftest = adfuller(dataset, autolag = \"AIC\")\n",
        "  print(\"1. ADF : \" , dftest[0])\n",
        "  print(\"2. P-value :\" , dftest[1])\n",
        "  print(\"3. Num of Lags :\" , dftest[2])\n",
        "  print(\"4. Num of Observations Used For ADF Regressor and Critical Value Calculations  :\" , dftest[3])\n",
        "  print(\"5. Critical Values :\")\n",
        "  for key, val in dftest[4].items():\n",
        "    print(\"\\t\", key,\": \", val)"
      ],
      "metadata": {
        "id": "MlsRvdBh5lkm"
      },
      "execution_count": null,
      "outputs": []
    },
    {
      "cell_type": "code",
      "source": [
        "ad_test(df[\"Close\"])"
      ],
      "metadata": {
        "id": "f1789UQG5lm0"
      },
      "execution_count": null,
      "outputs": []
    },
    {
      "cell_type": "code",
      "source": [
        "from pmdarima import auto_arima\n",
        "import warnings\n",
        "warnings.filterwarnings(\"ignore\")"
      ],
      "metadata": {
        "id": "BGqBuCJN5lo7"
      },
      "execution_count": null,
      "outputs": []
    },
    {
      "cell_type": "code",
      "source": [
        "stepwise_fit = auto_arima(df[\"Close\"], trace=True, suppress_warnings = True, stepwise=False, seasonal=False)\n",
        "stepwise_fit.summary()"
      ],
      "metadata": {
        "id": "tbC0ADEv5_ty"
      },
      "execution_count": null,
      "outputs": []
    },
    {
      "cell_type": "code",
      "source": [
        "from statsmodels.tsa.arima_model import ARIMA"
      ],
      "metadata": {
        "id": "PKqguBS85_vs"
      },
      "execution_count": null,
      "outputs": []
    },
    {
      "cell_type": "code",
      "source": [
        "print(df.shape)\n",
        "train = df.iloc[:-30]\n",
        "test = df.iloc[-30:]\n",
        "print(train.shape,test.shape)"
      ],
      "metadata": {
        "id": "tc2JLh645_x4"
      },
      "execution_count": null,
      "outputs": []
    },
    {
      "cell_type": "code",
      "source": [
        "import statsmodels.api as sm\n",
        "model = sm.tsa.arima.ARIMA(train[\"Close\"], order=(4,1,1))\n",
        "model = model.fit()\n",
        "model.summary()"
      ],
      "metadata": {
        "id": "IMwBGsWk5_z8"
      },
      "execution_count": null,
      "outputs": []
    },
    {
      "cell_type": "code",
      "source": [
        "start = len(train)\n",
        "end = len(train)+len(test)-1\n",
        "pred = model.predict(start=start,end=end,typ='levels')\n",
        "pred.index = df.index[start:end+1]\n",
        "print(pred)"
      ],
      "metadata": {
        "id": "Q9z8ruTw5_2I"
      },
      "execution_count": null,
      "outputs": []
    },
    {
      "cell_type": "code",
      "source": [
        "pred.plot(legend=True)\n",
        "test[\"Close\"].plot(legend=True)"
      ],
      "metadata": {
        "id": "lgnJZZYR5_4Q"
      },
      "execution_count": null,
      "outputs": []
    },
    {
      "cell_type": "code",
      "source": [
        "from sklearn.metrics import mean_squared_error \n",
        "from math import sqrt\n",
        "rmse = sqrt(mean_squared_error(pred,test[\"Close\"]))\n",
        "print(rmse)"
      ],
      "metadata": {
        "id": "nKUUsa7M5_6b"
      },
      "execution_count": null,
      "outputs": []
    },
    {
      "cell_type": "code",
      "source": [
        "test[\"Close\"].mean()"
      ],
      "metadata": {
        "id": "JzZ1_iLF5_8m"
      },
      "execution_count": null,
      "outputs": []
    },
    {
      "cell_type": "code",
      "source": [
        "model2 = sm.tsa.arima.ARIMA(train[\"Close\"], order=(4,1,1))\n",
        "model2 = model2.fit()"
      ],
      "metadata": {
        "id": "zE6wxiSy5_-1"
      },
      "execution_count": null,
      "outputs": []
    },
    {
      "cell_type": "code",
      "source": [
        "future_index=pd.date_range(start=\"2023-05-04\", end = \"2023-06-02\")\n",
        "pred = model2.predict(start = len(df),end=len(df)+29,typ='levels').rename('ARIMA Prdictions')\n",
        "pred.index = future_index"
      ],
      "metadata": {
        "id": "EdOPhZOr6xoY"
      },
      "execution_count": null,
      "outputs": []
    },
    {
      "cell_type": "code",
      "source": [
        "pred"
      ],
      "metadata": {
        "id": "f4dcmpaK6xqx"
      },
      "execution_count": null,
      "outputs": []
    },
    {
      "cell_type": "code",
      "source": [
        "# Calculate RMSE, MAPE, and MAE\n",
        "from sklearn.metrics import mean_squared_error, mean_absolute_error \n",
        "from math import sqrt\n",
        "rmse = sqrt(mean_squared_error(pred,test[\"Close\"]))\n",
        "mape = np.mean(np.abs((test[\"Close\"] - pred) / test[\"Close\"])) * 100\n",
        "mae = mean_absolute_error(pred, test[\"Close\"])\n",
        "\n",
        "# Print metrics\n",
        "print(f'RMSE: {rmse:.2f}')\n",
        "print(f'MAPE: {mape:.2f}%')\n",
        "print(f'MAE: {mae:.2f}')"
      ],
      "metadata": {
        "id": "b8YtDxXJ6xtS"
      },
      "execution_count": null,
      "outputs": []
    },
    {
      "cell_type": "code",
      "source": [],
      "metadata": {
        "id": "kOpaJ8b26xvW"
      },
      "execution_count": null,
      "outputs": []
    },
    {
      "cell_type": "code",
      "source": [],
      "metadata": {
        "id": "y-ucyyox6xxj"
      },
      "execution_count": null,
      "outputs": []
    },
    {
      "cell_type": "code",
      "source": [],
      "metadata": {
        "id": "2TpTtagD6xzQ"
      },
      "execution_count": null,
      "outputs": []
    },
    {
      "cell_type": "code",
      "source": [],
      "metadata": {
        "id": "Ciq9Eq3v6x1_"
      },
      "execution_count": null,
      "outputs": []
    },
    {
      "cell_type": "code",
      "source": [],
      "metadata": {
        "id": "vCxfQvlG5lrD"
      },
      "execution_count": null,
      "outputs": []
    }
  ]
}