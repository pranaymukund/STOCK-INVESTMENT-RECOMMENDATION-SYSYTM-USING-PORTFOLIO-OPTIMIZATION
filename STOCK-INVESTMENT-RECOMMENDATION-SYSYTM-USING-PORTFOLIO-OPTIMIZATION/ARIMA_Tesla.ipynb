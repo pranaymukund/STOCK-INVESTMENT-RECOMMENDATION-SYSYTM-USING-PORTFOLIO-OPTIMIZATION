{
  "nbformat": 4,
  "nbformat_minor": 0,
  "metadata": {
    "colab": {
      "private_outputs": true,
      "provenance": []
    },
    "kernelspec": {
      "name": "python3",
      "display_name": "Python 3"
    },
    "language_info": {
      "name": "python"
    }
  },
  "cells": [
    {
      "cell_type": "code",
      "execution_count": null,
      "metadata": {
        "id": "RLu_PaWmj3cg"
      },
      "outputs": [],
      "source": [
        "import yfinance as yf\n",
        "import pandas as pd\n",
        "import matplotlib.pyplot as plt"
      ]
    },
    {
      "cell_type": "code",
      "source": [
        "symbol = [\"TSLA\"]\n",
        "start_date = \"2007-01-02\"\n",
        "features = yf.download(symbol, start=start_date)\n"
      ],
      "metadata": {
        "id": "6Kq1DH0Bj68X"
      },
      "execution_count": null,
      "outputs": []
    },
    {
      "cell_type": "code",
      "source": [
        "# Drop multiple columns\n",
        "features = features.drop(['Open', 'High','Low', 'Adj Close','Volume'], axis=1)"
      ],
      "metadata": {
        "id": "OlTtZW-FlmPV"
      },
      "execution_count": null,
      "outputs": []
    },
    {
      "cell_type": "code",
      "source": [
        "features"
      ],
      "metadata": {
        "id": "keL8KcmHlmV_"
      },
      "execution_count": null,
      "outputs": []
    },
    {
      "cell_type": "code",
      "source": [
        "features = features.dropna(axis=0)\n",
        "features.isna().sum()"
      ],
      "metadata": {
        "id": "WS2CTgpjj6-W"
      },
      "execution_count": null,
      "outputs": []
    },
    {
      "cell_type": "code",
      "source": [
        "features_plot = pd.DataFrame(features, index=features.index)\n",
        "# Plot the DataFrame\n",
        "features_plot.plot(figsize=(18,9))\n",
        "plt.show()"
      ],
      "metadata": {
        "id": "y9MCrfKRj7Dl"
      },
      "execution_count": null,
      "outputs": []
    },
    {
      "cell_type": "code",
      "source": [
        "pip install pmdarima"
      ],
      "metadata": {
        "id": "OszqUFIPo89U"
      },
      "execution_count": null,
      "outputs": []
    },
    {
      "cell_type": "code",
      "source": [
        "import pandas as pd\n",
        "import numpy as np"
      ],
      "metadata": {
        "id": "IVQGaGDM1DlP"
      },
      "execution_count": null,
      "outputs": []
    },
    {
      "cell_type": "code",
      "source": [
        "df = features \n",
        "df.shape"
      ],
      "metadata": {
        "id": "v_Zlxcjv1DnT"
      },
      "execution_count": null,
      "outputs": []
    },
    {
      "cell_type": "code",
      "source": [
        "from statsmodels.tsa.stattools import adfuller\n",
        "\n",
        "def ad_test(dataset):\n",
        "  dftest = adfuller(dataset, autolag = \"AIC\")\n",
        "  print(\"1. ADF : \" , dftest[0])\n",
        "  print(\"2. P-value :\" , dftest[1])\n",
        "  print(\"3. Num of Lags :\" , dftest[2])\n",
        "  print(\"4. Num of Observations Used For ADF Regressor and Critical Value Calculations  :\" , dftest[3])\n",
        "  print(\"5. Critical Values :\")\n",
        "  for key, val in dftest[4].items():\n",
        "    print(\"\\t\", key,\": \", val)"
      ],
      "metadata": {
        "id": "hCw6ZZSy1Dpi"
      },
      "execution_count": null,
      "outputs": []
    },
    {
      "cell_type": "code",
      "source": [
        "ad_test(df[\"Close\"])"
      ],
      "metadata": {
        "id": "z7AwhQjC1DsD"
      },
      "execution_count": null,
      "outputs": []
    },
    {
      "cell_type": "markdown",
      "source": [
        "As from above test we see that the P-value is very high at 0.99 which states that the data is not staionary."
      ],
      "metadata": {
        "id": "0LJhsOQz390r"
      }
    },
    {
      "cell_type": "code",
      "source": [
        "from pmdarima import auto_arima\n",
        "import warnings\n",
        "warnings.filterwarnings(\"ignore\")"
      ],
      "metadata": {
        "id": "eVG3A8g91DuW"
      },
      "execution_count": null,
      "outputs": []
    },
    {
      "cell_type": "code",
      "source": [
        "stepwise_fit = auto_arima(df[\"Close\"], trace=True, suppress_warnings = True, stepwise=False, seasonal=False)\n",
        "stepwise_fit.summary()"
      ],
      "metadata": {
        "id": "ikyA3Mmjo8_l"
      },
      "execution_count": null,
      "outputs": []
    },
    {
      "cell_type": "code",
      "source": [
        "from statsmodels.tsa.arima_model import ARIMA"
      ],
      "metadata": {
        "id": "vEYd_mUoo9B0"
      },
      "execution_count": null,
      "outputs": []
    },
    {
      "cell_type": "code",
      "source": [
        "print(df.shape)\n",
        "train = df.iloc[:-30]\n",
        "test = df.iloc[-30:]\n",
        "print(train.shape,test.shape)"
      ],
      "metadata": {
        "id": "ZvJt01Juo9Dn"
      },
      "execution_count": null,
      "outputs": []
    },
    {
      "cell_type": "code",
      "source": [
        "train['Close']"
      ],
      "metadata": {
        "id": "4kxAubsp9nGa"
      },
      "execution_count": null,
      "outputs": []
    },
    {
      "cell_type": "code",
      "source": [
        "test[\"Close\"].tail()"
      ],
      "metadata": {
        "id": "6FATaFwoMUtJ"
      },
      "execution_count": null,
      "outputs": []
    },
    {
      "cell_type": "code",
      "source": [
        "import statsmodels.api as sm\n",
        "model = sm.tsa.arima.ARIMA(train[\"Close\"], order=(2,1,3))\n",
        "model = model.fit()\n",
        "model.summary()"
      ],
      "metadata": {
        "id": "kN8TAohRg2gE"
      },
      "execution_count": null,
      "outputs": []
    },
    {
      "cell_type": "code",
      "source": [
        "start = len(train)\n",
        "end = len(train)+len(test)-1\n",
        "pred = model.predict(start=start,end=end,typ='levels')\n",
        "pred.index = df.index[start:end+1]\n",
        "print(pred)"
      ],
      "metadata": {
        "id": "ISDz3LDH9mVV"
      },
      "execution_count": null,
      "outputs": []
    },
    {
      "cell_type": "code",
      "source": [
        "pred.plot(legend=True)\n",
        "test[\"Close\"].plot(legend=True)"
      ],
      "metadata": {
        "id": "0BvPzgjU8ZyQ"
      },
      "execution_count": null,
      "outputs": []
    },
    {
      "cell_type": "code",
      "source": [
        "from sklearn.metrics import mean_squared_error \n",
        "from math import sqrt\n",
        "rmse = sqrt(mean_squared_error(pred,test[\"Close\"]))\n",
        "print(rmse)"
      ],
      "metadata": {
        "id": "-4mfh1ru8Z0d"
      },
      "execution_count": null,
      "outputs": []
    },
    {
      "cell_type": "code",
      "source": [
        "test[\"Close\"].mean()"
      ],
      "metadata": {
        "id": "iVEFjDTDAfLF"
      },
      "execution_count": null,
      "outputs": []
    },
    {
      "cell_type": "code",
      "source": [
        "model2 = sm.tsa.arima.ARIMA(train[\"Close\"], order=(2,1,3))\n",
        "model2 = model2.fit()\n"
      ],
      "metadata": {
        "id": "1hainFWk8Z25"
      },
      "execution_count": null,
      "outputs": []
    },
    {
      "cell_type": "code",
      "source": [
        "train[\"Close\"]"
      ],
      "metadata": {
        "id": "FIHeBA7Wu3IF"
      },
      "execution_count": null,
      "outputs": []
    },
    {
      "cell_type": "markdown",
      "source": [
        "Fututre predictions"
      ],
      "metadata": {
        "id": "xXDqD4WmBcPF"
      }
    },
    {
      "cell_type": "code",
      "source": [
        "future_index=pd.date_range(start=\"2023-05-04\", end = \"2023-06-02\")\n",
        "pred = model2.predict(start = len(df),end=len(df)+29,typ='levels').rename('ARIMA Prdictions')\n",
        "pred.index = future_index"
      ],
      "metadata": {
        "id": "cD5wo4wq8Z8C"
      },
      "execution_count": null,
      "outputs": []
    },
    {
      "cell_type": "code",
      "source": [
        "pred"
      ],
      "metadata": {
        "id": "XwUTuPQrIbHF"
      },
      "execution_count": null,
      "outputs": []
    },
    {
      "cell_type": "code",
      "source": [
        "# Calculate RMSE, MAPE, and MAE\n",
        "from sklearn.metrics import mean_squared_error, mean_absolute_error \n",
        "from math import sqrt\n",
        "rmse = sqrt(mean_squared_error(pred,test[\"Close\"]))\n",
        "mape = np.mean(np.abs((test[\"Close\"] - pred) / test[\"Close\"])) * 100\n",
        "mae = mean_absolute_error(pred, test[\"Close\"])\n",
        "\n",
        "# Print metrics\n",
        "print(f'RMSE: {rmse:.2f}')\n",
        "print(f'MAPE: {mape:.2f}%')\n",
        "print(f'MAE: {mae:.2f}')\n"
      ],
      "metadata": {
        "id": "jNA5FG-HIbMD"
      },
      "execution_count": null,
      "outputs": []
    },
    {
      "cell_type": "code",
      "source": [],
      "metadata": {
        "id": "xnv8wZ6kIbOk"
      },
      "execution_count": null,
      "outputs": []
    },
    {
      "cell_type": "code",
      "source": [],
      "metadata": {
        "id": "GZAYb1MrIbRA"
      },
      "execution_count": null,
      "outputs": []
    },
    {
      "cell_type": "code",
      "source": [],
      "metadata": {
        "id": "gmOzFapwIbTs"
      },
      "execution_count": null,
      "outputs": []
    },
    {
      "cell_type": "code",
      "source": [],
      "metadata": {
        "id": "uaw5StEVIbWP"
      },
      "execution_count": null,
      "outputs": []
    }
  ]
}