{
  "nbformat": 4,
  "nbformat_minor": 0,
  "metadata": {
    "colab": {
      "private_outputs": true,
      "provenance": []
    },
    "kernelspec": {
      "name": "python3",
      "display_name": "Python 3"
    },
    "language_info": {
      "name": "python"
    }
  },
  "cells": [
    {
      "cell_type": "code",
      "source": [
        "import yfinance as yf\n",
        "import pandas as pd\n",
        "import matplotlib.pyplot as plt"
      ],
      "metadata": {
        "id": "_XtqVv-dET9S"
      },
      "execution_count": null,
      "outputs": []
    },
    {
      "cell_type": "code",
      "source": [
        "symbols = [\"TSLA\",\"^GSPC\",\"^DJI\",\"^IXIC\",\"^RUT\",\"CL=F\",\"^FTSE\",\"GC=F\",\"SI=F\",\"^N225\",\"JPY=X\",\"GBPUSD=X\",\"EURUSD=X\"]\n",
        "start_date = \"2007-01-02\"\n",
        "\n",
        "features_close = {}\n",
        "\n",
        "for symbol in symbols:\n",
        "    features = yf.download(symbol, start=start_date)\n",
        "    features_close[symbol] = features[\"Close\"]\n",
        "\n",
        "# Combine Close prices into single dataframe\n",
        "df= pd.concat(features_close.values(), axis=1, keys=features_close.keys())\n",
        "\n",
        "df"
      ],
      "metadata": {
        "id": "IlDgpMgDEUvr"
      },
      "execution_count": null,
      "outputs": []
    },
    {
      "cell_type": "code",
      "source": [
        "new_names = {\"BTC-USD\" : \"Bitcoin.close\" , \"^GSPC\" : \"gscp.close\", \"^DJI\" : \"dji.close\",\"^IXIC\": \"ixic.close\",\"^RUT\":\"rut.close\",\n",
        "             \"CL=F\" : \"clf.close\", \"^FTSE\" : \"ftse.close\",\"GC=F\" : \"gfc.close\",\"SI=F\" : \"sif.close\",\"^N225\" : \"n225.close\",\n",
        "             \"JPY=X\" : \"jpy.close\",\"GBPUSD=X\" : \"gbpusd.close\", \"EURUSD=X\" : \"eurusd.close\"}\n",
        "df = df.rename(columns=new_names)\n",
        "\n",
        "# Print the first few rows of the renamed dataframe\n",
        "print(df.tail())"
      ],
      "metadata": {
        "id": "n_65O3ScEUyQ"
      },
      "execution_count": null,
      "outputs": []
    },
    {
      "cell_type": "code",
      "source": [
        "df = df.dropna(axis=0)\n",
        "df.isna().sum()"
      ],
      "metadata": {
        "id": "a7jMHkN3EU1H"
      },
      "execution_count": null,
      "outputs": []
    },
    {
      "cell_type": "code",
      "source": [
        "df_plot = pd.DataFrame(df, index=df.index)\n",
        "# Plot the DataFrame\n",
        "df_plot.plot(figsize=(18,9))\n",
        "plt.show()"
      ],
      "metadata": {
        "id": "5IRJvpB0EU3Q"
      },
      "execution_count": null,
      "outputs": []
    },
    {
      "cell_type": "code",
      "source": [],
      "metadata": {
        "id": "cB8XaLqCEU5r"
      },
      "execution_count": null,
      "outputs": []
    },
    {
      "cell_type": "code",
      "source": [],
      "metadata": {
        "id": "kZDBw6m-EU7q"
      },
      "execution_count": null,
      "outputs": []
    },
    {
      "cell_type": "code",
      "metadata": {
        "id": "9m5zVh0567Mg"
      },
      "source": [
        " from statsmodels.graphics.tsaplots import plot_acf, plot_pacf\n",
        "from statsmodels.tsa.statespace.varmax import VARMAX\n",
        "from statsmodels.tsa.api import VAR\n",
        "from statsmodels.tsa.stattools import grangercausalitytests, adfuller\n",
        "from tqdm import tqdm_notebook\n",
        "from itertools import product\n",
        "\n",
        "import matplotlib.pyplot as plt\n",
        "import statsmodels.api as sm\n",
        "import pandas as pd\n",
        "import numpy as np\n",
        "\n",
        "import warnings\n",
        "warnings.filterwarnings('ignore')\n"
      ],
      "execution_count": null,
      "outputs": []
    },
    {
      "cell_type": "markdown",
      "metadata": {
        "id": "NKBeyfVWZT7L"
      },
      "source": [
        "# VECTOR AUTO REGRESSION"
      ]
    },
    {
      "cell_type": "code",
      "metadata": {
        "id": "4jQe30yK680d"
      },
      "source": [
        "macro_data = df\n",
        "print(macro_data.shape) \n",
        "macro_data.head()"
      ],
      "execution_count": null,
      "outputs": []
    },
    {
      "cell_type": "code",
      "metadata": {
        "id": "pTS8LJ26BL4A"
      },
      "source": [
        "ad_fuller_result_1 = adfuller(macro_data['TSLA'].diff()[1:])\n",
        "\n",
        "print('realtesla')\n",
        "print(f'ADF Statistic: {ad_fuller_result_1[0]}')\n",
        "print(f'p-value: {ad_fuller_result_1[1]}')\n",
        "################################################################################\n",
        "ad_fuller_result_2 = adfuller(macro_data['gscp.close'].diff()[1:])\n",
        "print('realgscp')\n",
        "print(f'ADF Statistic: {ad_fuller_result_2[0]}')\n",
        "print(f'p-value: {ad_fuller_result_2[1]}')\n",
        "\n",
        "print('\\n---------------------\\n')\n",
        "\n",
        "################################################################################\n",
        "ad_fuller_result_3 = adfuller(macro_data['dji.close'].diff()[1:])\n",
        "print('realdji')\n",
        "print(f'ADF Statistic: {ad_fuller_result_3[0]}')\n",
        "print(f'p-value: {ad_fuller_result_3[1]}')\n",
        "################################################################################\n",
        "\n",
        "ad_fuller_result_4 = adfuller(macro_data['ixic.close'].diff()[1:])\n",
        "print('realixic')\n",
        "print(f'ADF Statistic: {ad_fuller_result_4[0]}')\n",
        "print(f'p-value: {ad_fuller_result_4[1]}')\n",
        "\n",
        "print('\\n---------------------\\n')\n",
        "################################################################################\n",
        "ad_fuller_result_5 = adfuller(macro_data['rut.close'].diff()[1:])\n",
        "\n",
        "print('realrut')\n",
        "print(f'ADF Statistic: {ad_fuller_result_5[0]}')\n",
        "print(f'p-value: {ad_fuller_result_5[1]}')\n",
        "################################################################################\n",
        "ad_fuller_result_6 = adfuller(macro_data['clf.close'].diff()[1:])\n",
        "print('realclf')\n",
        "print(f'ADF Statistic: {ad_fuller_result_6[0]}')\n",
        "print(f'p-value: {ad_fuller_result_6[1]}')\n",
        "\n",
        "print('\\n---------------------\\n')\n",
        "################################################################################\n",
        "ad_fuller_result_7 = adfuller(macro_data['ftse.close'].diff()[1:])\n",
        "\n",
        "print('realftse')\n",
        "print(f'ADF Statistic: {ad_fuller_result_7[0]}')\n",
        "print(f'p-value: {ad_fuller_result_7[1]}')\n",
        "################################################################################\n",
        "ad_fuller_result_8 = adfuller(macro_data['gfc.close'].diff()[1:])\n",
        "print('realgfc')\n",
        "print(f'ADF Statistic: {ad_fuller_result_8[0]}')\n",
        "print(f'p-value: {ad_fuller_result_8[1]}')\n",
        "\n",
        "print('\\n---------------------\\n')\n",
        "################################################################################\n",
        "ad_fuller_result_9 = adfuller(macro_data['sif.close'].diff()[1:])\n",
        "\n",
        "print('realsif')\n",
        "print(f'ADF Statistic: {ad_fuller_result_9[0]}')\n",
        "print(f'p-value: {ad_fuller_result_9[1]}')\n",
        "################################################################################\n",
        "ad_fuller_result_10 = adfuller(macro_data['n225.close'].diff()[1:])\n",
        "print('realn225')\n",
        "print(f'ADF Statistic: {ad_fuller_result_10[0]}')\n",
        "print(f'p-value: {ad_fuller_result_10[1]}')\n",
        "\n",
        "print('\\n---------------------\\n')\n",
        "################################################################################\n",
        "ad_fuller_result_11 = adfuller(macro_data['jpy.close'].diff()[1:])\n",
        "\n",
        "print('realjpy')\n",
        "print(f'ADF Statistic: {ad_fuller_result_11[0]}')\n",
        "print(f'p-value: {ad_fuller_result_11[1]}')\n",
        "################################################################################\n",
        "ad_fuller_result_12 = adfuller(macro_data['gbpusd.close'].diff()[1:])\n",
        "print('realgbpusd')\n",
        "print(f'ADF Statistic: {ad_fuller_result_12[0]}')\n",
        "print(f'p-value: {ad_fuller_result_12[1]}')\n",
        "\n",
        "print('\\n---------------------\\n')\n",
        "################################################################################ \teurusd.close\n",
        "ad_fuller_result_13 = adfuller(macro_data['eurusd.close'].diff()[1:])\n",
        "print('realeurusd')\n",
        "print(f'ADF Statistic: {ad_fuller_result_13[0]}')\n",
        "print(f'p-value: {ad_fuller_result_13[1]}')\n"
      ],
      "execution_count": null,
      "outputs": []
    },
    {
      "cell_type": "code",
      "source": [
        "df.columns"
      ],
      "metadata": {
        "id": "6ptpjpqmO75N"
      },
      "execution_count": null,
      "outputs": []
    },
    {
      "cell_type": "code",
      "metadata": {
        "id": "qvsbm0dHPU97"
      },
      "source": [
        "macro_data = macro_data[['TSLA','gscp.close','dji.close', 'ixic.close', 'rut.close',\n",
        "       'clf.close', 'ftse.close', 'gfc.close', 'sif.close', 'n225.close',\n",
        "       'jpy.close', 'gbpusd.close', 'eurusd.close']]\n",
        "print(macro_data.shape)"
      ],
      "execution_count": null,
      "outputs": []
    },
    {
      "cell_type": "code",
      "metadata": {
        "id": "Rzk_7YtI5iwv"
      },
      "source": [
        "train_df=macro_data[:-30]\n",
        "test_df=macro_data[-30:]"
      ],
      "execution_count": null,
      "outputs": []
    },
    {
      "cell_type": "code",
      "metadata": {
        "id": "LvIZYPlO5tdj"
      },
      "source": [
        "print(test_df.shape)"
      ],
      "execution_count": null,
      "outputs": []
    },
    {
      "cell_type": "code",
      "metadata": {
        "id": "c1MxkA1_LpGn"
      },
      "source": [
        "model = VAR(train_df.diff()[1:])"
      ],
      "execution_count": null,
      "outputs": []
    },
    {
      "cell_type": "code",
      "metadata": {
        "id": "Yn3hGgiOMZ-n"
      },
      "source": [
        "sorted_order=model.select_order(maxlags=20)\n",
        "print(sorted_order.summary())\n"
      ],
      "execution_count": null,
      "outputs": []
    },
    {
      "cell_type": "code",
      "metadata": {
        "id": "A9rC2-VMLpO8"
      },
      "source": [
        "var_model = VARMAX(train_df, order=(1,0),enforce_stationarity= True)\n",
        "fitted_model = var_model.fit(disp=False)\n",
        "print(fitted_model.summary())"
      ],
      "execution_count": null,
      "outputs": []
    },
    {
      "cell_type": "code",
      "metadata": {
        "id": "ufjjjvpSUfWQ"
      },
      "source": [
        "n_forecast = 30\n",
        "predict = fitted_model.get_prediction(start=len(train_df),end=len(train_df) + n_forecast-1)#start=\"1989-07-01\",end='1999-01-01')\n",
        "\n",
        "predictions=predict.predicted_mean"
      ],
      "execution_count": null,
      "outputs": []
    },
    {
      "cell_type": "code",
      "metadata": {
        "id": "6xg8dYkp6Jn8"
      },
      "source": [
        "predictions.columns=['tesla_predicted','gscp_predicted','dji_predicted', 'ixic_predicted', 'rut_predicted',\n",
        "       'clf_predicted', 'ftse_predicted', 'gfc_predicted', 'sif_predicted', 'n225_predicted',\n",
        "       'jpy_predicted', 'gbpusd_predicted', 'eurusd_predicted']\n",
        "predictions"
      ],
      "execution_count": null,
      "outputs": []
    },
    {
      "cell_type": "code",
      "metadata": {
        "id": "xkGmc58hRMRm"
      },
      "source": [
        "test_vs_pred=pd.concat([test_df,predictions],axis=1)"
      ],
      "execution_count": null,
      "outputs": []
    },
    {
      "cell_type": "code",
      "metadata": {
        "id": "FvmvzhekwEwu"
      },
      "source": [
        "from sklearn.metrics import mean_squared_error,mean_absolute_error\n",
        "import math \n",
        "from statistics import mean\n",
        "\n",
        "#predictions['apple_predicted']\n",
        "predictions.index = test_df.index\n"
      ],
      "execution_count": null,
      "outputs": []
    },
    {
      "cell_type": "code",
      "source": [
        "rmse_apple = math.sqrt(mean_squared_error(predictions['tesla_predicted'],test_df['TSLA']))\n",
        "mape = np.mean(np.abs((test_df['TSLA'] - predictions['tesla_predicted']) / test_df['TSLA'])) * 100\n",
        "mae = np.mean(np.abs(test_df['TSLA'] - predictions['tesla_predicted']))\n",
        "\n",
        "# print the metrics\n",
        "print(\"RMSE: \", rmse_apple)\n",
        "print(\"MAPE: \", mape) #in %\n",
        "print(\"MAE: \", mae)"
      ],
      "metadata": {
        "id": "FLyuozarNm0H"
      },
      "execution_count": null,
      "outputs": []
    },
    {
      "cell_type": "code",
      "source": [
        "test_df['TSLA'].mean()"
      ],
      "metadata": {
        "id": "00lCGKwyNm1x"
      },
      "execution_count": null,
      "outputs": []
    },
    {
      "cell_type": "code",
      "source": [],
      "metadata": {
        "id": "CRN3UL-2Nm33"
      },
      "execution_count": null,
      "outputs": []
    },
    {
      "cell_type": "code",
      "source": [],
      "metadata": {
        "id": "cjN9u7JlNm54"
      },
      "execution_count": null,
      "outputs": []
    },
    {
      "cell_type": "code",
      "source": [],
      "metadata": {
        "id": "jiNfIv78NGhY"
      },
      "execution_count": null,
      "outputs": []
    }
  ]
}